{
 "cells": [
  {
   "cell_type": "code",
   "execution_count": 1,
   "id": "5d98a706-91af-42f7-a5f7-3c571f0e8dea",
   "metadata": {},
   "outputs": [
    {
     "name": "stdin",
     "output_type": "stream",
     "text": [
      "Enter the student's last name (or 'ZZZ' to quit):  Smith\n",
      "Enter the student's first name:  Will\n",
      "Enter the student's GPA:  3.75\n"
     ]
    },
    {
     "name": "stdout",
     "output_type": "stream",
     "text": [
      "Will Smith made the Dean's List.\n"
     ]
    },
    {
     "name": "stdin",
     "output_type": "stream",
     "text": [
      "Enter the student's last name (or 'ZZZ' to quit):  Diesel\n",
      "Enter the student's first name:  Vin\n",
      "Enter the student's GPA:  2.20\n"
     ]
    },
    {
     "name": "stdout",
     "output_type": "stream",
     "text": [
      "Vin Diesel could not qualify for the Dean's List or the Honor Roll.\n"
     ]
    },
    {
     "name": "stdin",
     "output_type": "stream",
     "text": [
      "Enter the student's last name (or 'ZZZ' to quit):  Pratt\n",
      "Enter the student's first name:  Chris\n",
      "Enter the student's GPA:  4.0\n"
     ]
    },
    {
     "name": "stdout",
     "output_type": "stream",
     "text": [
      "Chris Pratt made the Dean's List.\n"
     ]
    },
    {
     "name": "stdin",
     "output_type": "stream",
     "text": [
      "Enter the student's last name (or 'ZZZ' to quit):  Cruise\n",
      "Enter the student's first name:  Tom\n",
      "Enter the student's GPA:  3.25\n"
     ]
    },
    {
     "name": "stdout",
     "output_type": "stream",
     "text": [
      "Tom Cruise made the Honor Roll.\n"
     ]
    },
    {
     "name": "stdin",
     "output_type": "stream",
     "text": [
      "Enter the student's last name (or 'ZZZ' to quit):  Bale\n",
      "Enter the student's first name:  Christian\n",
      "Enter the student's GPA:  4.0\n"
     ]
    },
    {
     "name": "stdout",
     "output_type": "stream",
     "text": [
      "Christian Bale made the Dean's List.\n"
     ]
    },
    {
     "name": "stdin",
     "output_type": "stream",
     "text": [
      "Enter the student's last name (or 'ZZZ' to quit):  ZZZ\n"
     ]
    },
    {
     "name": "stdout",
     "output_type": "stream",
     "text": [
      "Exit the program.\n"
     ]
    }
   ],
   "source": [
    "# Author: Tejeswar Pasupureddi\n",
    "# File Name: student_deanlist.py\n",
    "# Description: This app accepts student names and GPAs and checks if the student qualifies \n",
    "#              for either the Dean's List or the Honor Roll. The app will continue to process \n",
    "#              student records until 'ZZZ' is entered as the last name.\n",
    "\n",
    "def check_qualification():\n",
    "    while True:\n",
    "        # Ask for the student's last name\n",
    "        last_name = input(\"Enter the student's last name (or 'ZZZ' to quit): \")\n",
    "        \n",
    "        # Quit processing if the last name is 'ZZZ'\n",
    "        if last_name.upper() == 'ZZZ':\n",
    "            print(\"Exit the program.\")\n",
    "            break\n",
    "\n",
    "        # Ask for the student's first name\n",
    "        first_name = input(\"Enter the student's first name: \")\n",
    "\n",
    "        # Ask for the student's GPA\n",
    "        gpa = float(input(\"Enter the student's GPA: \"))\n",
    "    \n",
    "        # Check for Dean's List qualification\n",
    "        if gpa >= 3.5:\n",
    "            print(f\"{first_name} {last_name} made the Dean's List.\")\n",
    "        # Check for Honor Roll qualification\n",
    "        elif gpa >= 3.25:\n",
    "            print(f\"{first_name} {last_name} made the Honor Roll.\")\n",
    "        else:\n",
    "            print(f\"{first_name} {last_name} could not qualify for the Dean's List or the Honor Roll.\")\n",
    "\n",
    "#Calling The Function\n",
    "if __name__ == \"__main__\":\n",
    "    check_qualification()"
   ]
  }
 ],
 "metadata": {
  "kernelspec": {
   "display_name": "Python 3 (ipykernel)",
   "language": "python",
   "name": "python3"
  },
  "language_info": {
   "codemirror_mode": {
    "name": "ipython",
    "version": 3
   },
   "file_extension": ".py",
   "mimetype": "text/x-python",
   "name": "python",
   "nbconvert_exporter": "python",
   "pygments_lexer": "ipython3",
   "version": "3.12.4"
  }
 },
 "nbformat": 4,
 "nbformat_minor": 5
}
